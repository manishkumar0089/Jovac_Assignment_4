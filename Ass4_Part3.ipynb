{
 "cells": [
  {
   "cell_type": "markdown",
   "id": "8dd1997c",
   "metadata": {},
   "source": [
    "Task 7: Conceptual Questions (Markdown cell)\n",
    "Ques.1> What is the difference between Bagging and Boosting?\n",
    "Ans.> Bagging (Bootstrap Aggregating) trains multiple models independently on random subsets of data and then aggregates their results (like voting or averaging). It focuses on reducing variance.\n",
    "\n",
    "Boosting trains models sequentially, where each new model tries to fix the errors of the previous one. It focuses on reducing bias.\n",
    "\n",
    "Ques.2> How does Random Forest reduce variance?\n",
    "Ans.> Random Forest builds many decision trees on different random subsets of data and features. By averaging their predictions, it smooths out individual tree “noisiness” and makes the overall model more stable and generalizable. That reduces variance without increasing bias too much.\n",
    "\n",
    "Ques.3> What is the weakness of boosting-based methods?\n",
    "Ans.>While boosting is powerful, it can:\n",
    "\n",
    "Be sensitive to noisy data and outliers (it tries hard to fix all errors, even bad ones).\n",
    "\n",
    "Be slow to train, especially with lots of trees or deep trees.\n",
    "\n",
    "Overfit if not regularized (like limiting tree depth or using learning rate).\n",
    "\n"
   ]
  },
  {
   "cell_type": "code",
   "execution_count": 2,
   "id": "76a113c3",
   "metadata": {},
   "outputs": [],
   "source": [
    "# Task 8: Random Forest vs Decision Tree\n",
    "import pandas as pd\n",
    "import seaborn as sns\n",
    "from sklearn.tree import DecisionTreeClassifier\n",
    "from sklearn.model_selection import train_test_split\n",
    "df = sns.load_dataset('titanic')\n",
    "df = df.drop(columns=['deck', 'embark_town', 'alive', 'who'])\n",
    "df = df.dropna(subset=['age', 'embarked'])\n",
    "df['embarked'] = df['embarked'].fillna('S')\n",
    "df['age'] = df['age'].fillna(df['age'].median())\n",
    "df['sex'] = df['sex'].map({'male': 0, 'female': 1})\n",
    "df['embarked'] = df['embarked'].map({'S': 0, 'C': 1, 'Q': 2})\n",
    "df = df.drop(columns=['class', 'adult_male'])\n",
    "df = df.dropna()\n",
    "X = df.drop(columns='survived')\n",
    "y = df['survived']\n",
    "X_train, X_test, y_train, y_test = train_test_split(X, y, test_size=0.2, random_state=42)\n"
   ]
  },
  {
   "cell_type": "code",
   "execution_count": 3,
   "id": "1ed994cd",
   "metadata": {},
   "outputs": [
    {
     "name": "stdout",
     "output_type": "stream",
     "text": [
      "Random Forest Results:\n",
      "Accuracy: 0.8042\n",
      "Precision: 0.7966\n",
      "Recall: 0.7460\n"
     ]
    }
   ],
   "source": [
    "from sklearn.ensemble import RandomForestClassifier\n",
    "from sklearn.metrics import precision_score, recall_score, f1_score, accuracy_score\n",
    "\n",
    "# Train Random Forest\n",
    "rf = RandomForestClassifier(n_estimators=100, random_state=42)\n",
    "rf.fit(X_train, y_train)\n",
    "\n",
    "# Predict and evaluate\n",
    "rf_pred = rf.predict(X_test)\n",
    "rf_acc = accuracy_score(y_test, rf_pred)\n",
    "rf_prec = precision_score(y_test, rf_pred)\n",
    "rf_recall = recall_score(y_test, rf_pred)\n",
    "\n",
    "print(\"Random Forest Results:\")\n",
    "print(f\"Accuracy: {rf_acc:.4f}\")\n",
    "print(f\"Precision: {rf_prec:.4f}\")\n",
    "print(f\"Recall: {rf_recall:.4f}\")\n"
   ]
  },
  {
   "cell_type": "code",
   "execution_count": 4,
   "id": "b0d79fbf",
   "metadata": {},
   "outputs": [
    {
     "name": "stdout",
     "output_type": "stream",
     "text": [
      "Decision Tree Results:\n",
      "Accuracy: 0.6853\n",
      "Precision: 0.6607\n",
      "Recall: 0.5873\n"
     ]
    }
   ],
   "source": [
    "# Decision tree (from Task 5 reused)\n",
    "dt = DecisionTreeClassifier(random_state=42)\n",
    "dt.fit(X_train, y_train)\n",
    "dt_pred = dt.predict(X_test)\n",
    "\n",
    "dt_acc = accuracy_score(y_test, dt_pred)\n",
    "dt_prec = precision_score(y_test, dt_pred)\n",
    "dt_recall = recall_score(y_test, dt_pred)\n",
    "\n",
    "print(\"Decision Tree Results:\")\n",
    "print(f\"Accuracy: {dt_acc:.4f}\")\n",
    "print(f\"Precision: {dt_prec:.4f}\")\n",
    "print(f\"Recall: {dt_recall:.4f}\")"
   ]
  },
  {
   "cell_type": "code",
   "execution_count": 5,
   "id": "0af758ac",
   "metadata": {},
   "outputs": [
    {
     "data": {
      "image/png": "[encoded data removed]",
      "text/plain": [
       "<Figure size 1000x600 with 1 Axes>"
      ]
     },
     "metadata": {},
     "output_type": "display_data"
    }
   ],
   "source": [
    "import matplotlib.pyplot as plt\n",
    "# Feature importance from Random Forest\n",
    "importances = rf.feature_importances_\n",
    "features = X.columns\n",
    "\n",
    "# Plot\n",
    "plt.figure(figsize=(10, 6))\n",
    "sns.barplot(x=importances, y=features)\n",
    "plt.title(\"Feature Importances - Random Forest\")\n",
    "plt.xlabel(\"Importance\")\n",
    "plt.ylabel(\"Feature\")\n",
    "plt.show()\n"
   ]
  },
  {
   "cell_type": "code",
   "execution_count": 6,
   "id": "2b1904b0",
   "metadata": {},
   "outputs": [
    {
     "name": "stdout",
     "output_type": "stream",
     "text": [
      "AdaBoost Results:\n",
      "Accuracy: 0.8322\n",
      "F1 Score: 0.7931\n",
      "Training Time: 0.23 seconds\n"
     ]
    }
   ],
   "source": [
    "# Task 9: AdaBoost or Gradient Boosting\n",
    "from sklearn.ensemble import AdaBoostClassifier\n",
    "import time\n",
    "\n",
    "# Track training time (optional)\n",
    "start = time.time()\n",
    "ab = AdaBoostClassifier(n_estimators=100, random_state=42)\n",
    "ab.fit(X_train, y_train)\n",
    "end = time.time()\n",
    "training_time = end - start\n",
    "# Predict\n",
    "ab_pred = ab.predict(X_test)\n",
    "# Evaluate\n",
    "ab_acc = accuracy_score(y_test, ab_pred)\n",
    "ab_f1 = f1_score(y_test, ab_pred)\n",
    "print(\"AdaBoost Results:\")\n",
    "print(f\"Accuracy: {ab_acc:.4f}\")\n",
    "print(f\"F1 Score: {ab_f1:.4f}\")\n",
    "print(f\"Training Time: {training_time:.2f} seconds\")"
   ]
  },
  {
   "cell_type": "code",
   "execution_count": 7,
   "id": "69c2660f",
   "metadata": {},
   "outputs": [
    {
     "name": "stdout",
     "output_type": "stream",
     "text": [
      "Model Comparison (F1 Score):\n",
      "Decision Tree: 0.6218\n",
      "Random Forest: 0.7705\n",
      "AdaBoost     : 0.7931\n"
     ]
    }
   ],
   "source": [
    "from sklearn.metrics import f1_score\n",
    "\n",
    "dt_f1 = f1_score(y_test, dt_pred)\n",
    "rf_f1 = f1_score(y_test, rf_pred)\n",
    "\n",
    "print(\"Model Comparison (F1 Score):\")\n",
    "print(f\"Decision Tree: {dt_f1:.4f}\")\n",
    "print(f\"Random Forest: {rf_f1:.4f}\")\n",
    "print(f\"AdaBoost     : {ab_f1:.4f}\")"
   ]
  },
  {
   "cell_type": "code",
   "execution_count": 8,
   "id": "88f882b8",
   "metadata": {},
   "outputs": [
    {
     "data": {
      "text/html": [
       "<div>\n",
       "<style scoped>\n",
       "    .dataframe tbody tr th:only-of-type {\n",
       "        vertical-align: middle;\n",
       "    }\n",
       "\n",
       "    .dataframe tbody tr th {\n",
       "        vertical-align: top;\n",
       "    }\n",
       "\n",
       "    .dataframe thead th {\n",
       "        text-align: right;\n",
       "    }\n",
       "</style>\n",
       "<table border=\"1\" class=\"dataframe\">\n",
       "  <thead>\n",
       "    <tr style=\"text-align: right;\">\n",
       "      <th></th>\n",
       "      <th>Model</th>\n",
       "      <th>Accuracy</th>\n",
       "      <th>F1 Score</th>\n",
       "    </tr>\n",
       "  </thead>\n",
       "  <tbody>\n",
       "    <tr>\n",
       "      <th>0</th>\n",
       "      <td>Decision Tree</td>\n",
       "      <td>0.685315</td>\n",
       "      <td>0.621849</td>\n",
       "    </tr>\n",
       "    <tr>\n",
       "      <th>1</th>\n",
       "      <td>Random Forest</td>\n",
       "      <td>0.804196</td>\n",
       "      <td>0.770492</td>\n",
       "    </tr>\n",
       "    <tr>\n",
       "      <th>2</th>\n",
       "      <td>AdaBoost</td>\n",
       "      <td>0.832168</td>\n",
       "      <td>0.793103</td>\n",
       "    </tr>\n",
       "  </tbody>\n",
       "</table>\n",
       "</div>"
      ],
      "text/plain": [
       "           Model  Accuracy  F1 Score\n",
       "0  Decision Tree  0.685315  0.621849\n",
       "1  Random Forest  0.804196  0.770492\n",
       "2       AdaBoost  0.832168  0.793103"
      ]
     },
     "execution_count": 8,
     "metadata": {},
     "output_type": "execute_result"
    }
   ],
   "source": [
    "comparison = pd.DataFrame({\n",
    "    'Model': ['Decision Tree', 'Random Forest', 'AdaBoost'],\n",
    "    'Accuracy': [dt_acc, rf_acc, ab_acc],\n",
    "    'F1 Score': [dt_f1, rf_f1, ab_f1]\n",
    "})\n",
    "\n",
    "comparison"
   ]
  }
 ],
 "metadata": {
  "kernelspec": {
   "display_name": "base",
   "language": "python",
   "name": "python3"
  },
  "language_info": {
   "codemirror_mode": {
    "name": "ipython",
    "version": 3
   },
   "file_extension": ".py",
   "mimetype": "text/x-python",
   "name": "python",
   "nbconvert_exporter": "python",
   "pygments_lexer": "ipython3",
   "version": "3.9.12"
  }
 },
 "nbformat": 4,
 "nbformat_minor": 5
}
